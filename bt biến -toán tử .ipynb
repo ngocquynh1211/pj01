{
 "cells": [
  {
   "cell_type": "markdown",
   "metadata": {},
   "source": [
    "## Bài 1\n",
    "Viết chương trình nhập vào 2 số nguyên `num1` và `num2`. In ra tích của 2 số nguyên đó."
   ]
  },
  {
   "cell_type": "code",
   "execution_count": 3,
   "metadata": {},
   "outputs": [
    {
     "name": "stdout",
     "output_type": "stream",
     "text": [
      "ket qua la cua phep nhan 6 * 7 = 42\n"
     ]
    }
   ],
   "source": [
    "num1 = int(input(\"nhap num1 = \"))\n",
    "num2 = int(input(\"nhap num2 = \"))\n",
    "tich = num1 * num2\n",
    "print(f\"ket qua la cua phep nhan {num1} * {num2} = {tich}\")"
   ]
  },
  {
   "cell_type": "markdown",
   "metadata": {},
   "source": [
    "## Bài 2 \n",
    "Nhập vào ba biến `diem_toan`, `diem_ly`, `diem_hoa` và in ra điểm trung bình của ba môn học trên."
   ]
  },
  {
   "cell_type": "code",
   "execution_count": 7,
   "metadata": {},
   "outputs": [
    {
     "name": "stdout",
     "output_type": "stream",
     "text": [
      "ket qua diem trung binh la:  7.5\n"
     ]
    }
   ],
   "source": [
    "diem_toan = float(input(\"nhap diem toan = \"))\n",
    "diem_ly = float(input(\"nhap diem ly = \"))\n",
    "diem_hoa= float(input(\"nhap diem toan = \"))\n",
    "tb = float((diem_toan + diem_ly + diem_hoa)/3)\n",
    "print(\"ket qua diem trung binh la: \",tb)"
   ]
  },
  {
   "cell_type": "markdown",
   "metadata": {},
   "source": [
    "## Bài 3\n",
    "Nhập vào vận tốc của đoàn tàu theo đơn vị km/h.\n",
    "\n",
    "a. Hỏi trung bình mỗi phút đoàn tàu đi được bao nhiêu mét?\n",
    "\n",
    "b. Sau 1 giờ 12 phút đoàn tàu đi được bao nhiêu km?"
   ]
  },
  {
   "cell_type": "code",
   "execution_count": 18,
   "metadata": {},
   "outputs": [
    {
     "name": "stdout",
     "output_type": "stream",
     "text": [
      "Trung bình mỗi phút đoàn tàu đi được: 550.0 m\n",
      "Số KM đoàn toàn đi được sau 1h12 là :  39.6 km\n"
     ]
    }
   ],
   "source": [
    "v = float(input(\"nhap v = \"))\n",
    "a = v * 1000 / 60\n",
    "print(\"Trung bình mỗi phút đoàn tàu đi được:\",a,\"m\")\n",
    "# doi 1h 12 phut = 72 phut\n",
    "b = a * 72 / 1000\n",
    "print(\"Số KM đoàn toàn đi được sau 1h12 là : \",b,\"km\")"
   ]
  },
  {
   "cell_type": "code",
   "execution_count": null,
   "metadata": {},
   "outputs": [],
   "source": []
  }
 ],
 "metadata": {
  "kernelspec": {
   "display_name": "Python 3",
   "language": "python",
   "name": "python3"
  },
  "language_info": {
   "codemirror_mode": {
    "name": "ipython",
    "version": 3
   },
   "file_extension": ".py",
   "mimetype": "text/x-python",
   "name": "python",
   "nbconvert_exporter": "python",
   "pygments_lexer": "ipython3",
   "version": "3.12.3"
  }
 },
 "nbformat": 4,
 "nbformat_minor": 2
}
